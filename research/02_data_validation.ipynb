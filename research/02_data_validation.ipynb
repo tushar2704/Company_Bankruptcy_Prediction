{
 "cells": [
  {
   "cell_type": "code",
   "execution_count": null,
   "metadata": {},
   "outputs": [],
   "source": [
    "#©2023 Tushar Aggarwal. All rights reserved\n",
    "#02data_validation.ipynb"
   ]
  }
 ],
 "metadata": {
  "language_info": {
   "name": "python"
  },
  "orig_nbformat": 4
 },
 "nbformat": 4,
 "nbformat_minor": 2
}
